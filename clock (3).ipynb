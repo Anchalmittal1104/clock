{
 "cells": [
  {
   "cell_type": "code",
   "execution_count": null,
   "id": "633c5816-3525-41fe-8463-2ba7551bb741",
   "metadata": {},
   "outputs": [],
   "source": [
    "from tkinter import *\n",
    "from tkinter.ttk import *\n",
    "\n",
    "from time import strftime\n",
    "\n",
    "root = Tk()\n",
    "root.title(\"clock\")\n",
    "\n",
    "def time():\n",
    "    string = strftime('%I:%M:%S %p')\n",
    "    label.config(text=string)\n",
    "    label.after(1000, time)\n",
    "\n",
    "label = Label(root, font=(\"ds_digital\", 80), background = \"black\", foreground = \"white\")\n",
    "label.pack(anchor='center')\n",
    "time()\n",
    "\n",
    "mainloop()"
   ]
  },
  {
   "cell_type": "code",
   "execution_count": null,
   "id": "1c9c7c36-a224-44f2-ba36-0dd6094587a9",
   "metadata": {},
   "outputs": [],
   "source": []
  }
 ],
 "metadata": {
  "kernelspec": {
   "display_name": "Python 3 (ipykernel)",
   "language": "python",
   "name": "python3"
  },
  "language_info": {
   "codemirror_mode": {
    "name": "ipython",
    "version": 3
   },
   "file_extension": ".py",
   "mimetype": "text/x-python",
   "name": "python",
   "nbconvert_exporter": "python",
   "pygments_lexer": "ipython3",
   "version": "3.12.4"
  }
 },
 "nbformat": 4,
 "nbformat_minor": 5
}
